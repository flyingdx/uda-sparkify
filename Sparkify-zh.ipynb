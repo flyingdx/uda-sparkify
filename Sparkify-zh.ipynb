{
 "cells": [
  {
   "cell_type": "markdown",
   "metadata": {},
   "source": [
    "# Sparkify 项目 Workspace\n",
    "这个 Workspace 包括一个迷你的子数据集（128MB），是完整数据集（12GB）的一个子集。在将你的项目部署到云上之前，你可以自由使用 Workspace 来创建你的项目或用Spark来探索这个较小数据集。设置 Spark 集群的指南可以在选修 Spark 课程的内容里找到。\n",
    "\n",
    "你可以依照下面的步骤进行项目的数据分析和模型搭建部分。"
   ]
  },
  {
   "cell_type": "markdown",
   "metadata": {},
   "source": [
    "# 项目概述"
   ]
  },
  {
   "cell_type": "markdown",
   "metadata": {},
   "source": [
    "* 项目概述\n",
    "\n",
    "该数据集是一个音乐服务的用户日志，包含了用户信息，歌曲信息，用户活动，时间戳等。我们尝试分析日志，提取与用户流失相关的变量，并使用Spark建立模型去识别可能流失的用户，以便于后续采取措施挽留用户\n",
    "\n",
    "* 项目思路\n",
    "  * 1.加载库，创建Spark session\n",
    "  * 2.加载与清洗数据\n",
    "  * 3.探索性数据分析，寻找变量间关系\n",
    "  * 4.构建用于预测的特征\n",
    "  * 5.建模预测\n",
    "  * 6.结论汇总\n",
    "  \n",
    "* 评价指标\n",
    "  * 因为流失顾客数据集很小，Accuracy很难反映模型好坏，根据建议选用 F1 score 作为优化指标\n"
   ]
  },
  {
   "cell_type": "code",
   "execution_count": 1,
   "metadata": {},
   "outputs": [],
   "source": [
    "# import libraries\n",
    "#加载pyspark相关的库\n",
    "from pyspark.sql.functions import avg,col,concat,desc,explode,lit,min,max,split,udf\n",
    "from pyspark.sql.types import IntegerType\n",
    "from pyspark.sql import Window\n",
    "from pyspark.sql import SparkSession\n",
    "\n",
    "#from pyspark.ml import Pipeline\n",
    "from pyspark.ml.classification import LogisticRegression,LinearSVC,RandomForestClassifier\n",
    "from pyspark.ml.evaluation import MulticlassClassificationEvaluator\n",
    "from pyspark.ml.feature import StandardScaler,VectorAssembler\n",
    "from pyspark.ml.tuning import CrossValidator,ParamGridBuilder\n",
    "\n",
    "#加载pandas、numpy、matplotlib、seaborn\n",
    "import pandas as pd\n",
    "import numpy as np\n",
    "import matplotlib.pyplot as plt\n",
    "import seaborn as sns\n",
    "\n",
    "#加载datetime\n",
    "import datetime\n",
    "from time import time\n"
   ]
  },
  {
   "cell_type": "code",
   "execution_count": 2,
   "metadata": {},
   "outputs": [],
   "source": [
    "# create a Spark session\n",
    "spark=SparkSession.builder.getOrCreate()"
   ]
  },
  {
   "cell_type": "markdown",
   "metadata": {},
   "source": [
    "# 1加载和清洗数据\n",
    "在这个 Workspace 中，小数据集的名称是 `mini_sparkify_event_data.json`.加载和清洗数据集，检查是否有无效或缺失数据——例如，没有userid或sessionid的数据。 "
   ]
  },
  {
   "cell_type": "markdown",
   "metadata": {},
   "source": [
    "### 1.1 加载数据"
   ]
  },
  {
   "cell_type": "code",
   "execution_count": 3,
   "metadata": {},
   "outputs": [],
   "source": [
    "#读取数据\n",
    "df=spark.read.json('mini_sparkify_event_data.json.bz2')"
   ]
  },
  {
   "cell_type": "markdown",
   "metadata": {},
   "source": [
    "### 1.2 评估数据"
   ]
  },
  {
   "cell_type": "code",
   "execution_count": 4,
   "metadata": {},
   "outputs": [
    {
     "name": "stdout",
     "output_type": "stream",
     "text": [
      "+----------------+---------+---------+------+-------------+--------+---------+-----+--------------------+------+--------+-------------+---------+--------------------+------+-------------+--------------------+------+\n",
      "|          artist|     auth|firstName|gender|itemInSession|lastName|   length|level|            location|method|    page| registration|sessionId|                song|status|           ts|           userAgent|userId|\n",
      "+----------------+---------+---------+------+-------------+--------+---------+-----+--------------------+------+--------+-------------+---------+--------------------+------+-------------+--------------------+------+\n",
      "|  Martha Tilston|Logged In|    Colin|     M|           50| Freeman|277.89016| paid|     Bakersfield, CA|   PUT|NextSong|1538173362000|       29|           Rockpools|   200|1538352117000|Mozilla/5.0 (Wind...|    30|\n",
      "|Five Iron Frenzy|Logged In|    Micah|     M|           79|    Long|236.09424| free|Boston-Cambridge-...|   PUT|NextSong|1538331630000|        8|              Canada|   200|1538352180000|\"Mozilla/5.0 (Win...|     9|\n",
      "|    Adam Lambert|Logged In|    Colin|     M|           51| Freeman| 282.8273| paid|     Bakersfield, CA|   PUT|NextSong|1538173362000|       29|   Time For Miracles|   200|1538352394000|Mozilla/5.0 (Wind...|    30|\n",
      "|          Enigma|Logged In|    Micah|     M|           80|    Long|262.71302| free|Boston-Cambridge-...|   PUT|NextSong|1538331630000|        8|Knocking On Forbi...|   200|1538352416000|\"Mozilla/5.0 (Win...|     9|\n",
      "|       Daft Punk|Logged In|    Colin|     M|           52| Freeman|223.60771| paid|     Bakersfield, CA|   PUT|NextSong|1538173362000|       29|Harder Better Fas...|   200|1538352676000|Mozilla/5.0 (Wind...|    30|\n",
      "+----------------+---------+---------+------+-------------+--------+---------+-----+--------------------+------+--------+-------------+---------+--------------------+------+-------------+--------------------+------+\n",
      "only showing top 5 rows\n",
      "\n"
     ]
    }
   ],
   "source": [
    "#查看数据前5行\n",
    "df.show(5)"
   ]
  },
  {
   "cell_type": "code",
   "execution_count": 5,
   "metadata": {},
   "outputs": [
    {
     "name": "stdout",
     "output_type": "stream",
     "text": [
      "root\n",
      " |-- artist: string (nullable = true)\n",
      " |-- auth: string (nullable = true)\n",
      " |-- firstName: string (nullable = true)\n",
      " |-- gender: string (nullable = true)\n",
      " |-- itemInSession: long (nullable = true)\n",
      " |-- lastName: string (nullable = true)\n",
      " |-- length: double (nullable = true)\n",
      " |-- level: string (nullable = true)\n",
      " |-- location: string (nullable = true)\n",
      " |-- method: string (nullable = true)\n",
      " |-- page: string (nullable = true)\n",
      " |-- registration: long (nullable = true)\n",
      " |-- sessionId: long (nullable = true)\n",
      " |-- song: string (nullable = true)\n",
      " |-- status: long (nullable = true)\n",
      " |-- ts: long (nullable = true)\n",
      " |-- userAgent: string (nullable = true)\n",
      " |-- userId: string (nullable = true)\n",
      "\n"
     ]
    }
   ],
   "source": [
    "#查看各列\n",
    "df.printSchema()"
   ]
  },
  {
   "cell_type": "code",
   "execution_count": 6,
   "metadata": {},
   "outputs": [
    {
     "data": {
      "text/plain": [
       "286500"
      ]
     },
     "execution_count": 6,
     "metadata": {},
     "output_type": "execute_result"
    }
   ],
   "source": [
    "df.count()"
   ]
  },
  {
   "cell_type": "markdown",
   "metadata": {},
   "source": [
    "* 数据集共有286500行,18列\n",
    "* 连续变量有itemInSession\\length\\sessionId\\registration\\ts, 剩下变量均为分类变量"
   ]
  },
  {
   "cell_type": "code",
   "execution_count": 7,
   "metadata": {},
   "outputs": [
    {
     "name": "stdout",
     "output_type": "stream",
     "text": [
      "+------+\n",
      "|userId|\n",
      "+------+\n",
      "|      |\n",
      "|    10|\n",
      "|   100|\n",
      "|100001|\n",
      "|100002|\n",
      "+------+\n",
      "only showing top 5 rows\n",
      "\n"
     ]
    }
   ],
   "source": [
    "#查看ID列\n",
    "df.select('userId').dropDuplicates().sort('userId').show(5)"
   ]
  },
  {
   "cell_type": "markdown",
   "metadata": {},
   "source": [
    "#### 分析：\n",
    "* userId列存在非NA的空值，需要删除"
   ]
  },
  {
   "cell_type": "code",
   "execution_count": 8,
   "metadata": {},
   "outputs": [
    {
     "name": "stdout",
     "output_type": "stream",
     "text": [
      "+--------------------+\n",
      "|                page|\n",
      "+--------------------+\n",
      "|              Cancel|\n",
      "|    Submit Downgrade|\n",
      "|         Thumbs Down|\n",
      "|                Home|\n",
      "|           Downgrade|\n",
      "|         Roll Advert|\n",
      "|              Logout|\n",
      "|       Save Settings|\n",
      "|Cancellation Conf...|\n",
      "|               About|\n",
      "| Submit Registration|\n",
      "|            Settings|\n",
      "|               Login|\n",
      "|            Register|\n",
      "|     Add to Playlist|\n",
      "|          Add Friend|\n",
      "|            NextSong|\n",
      "|           Thumbs Up|\n",
      "|                Help|\n",
      "|             Upgrade|\n",
      "+--------------------+\n",
      "only showing top 20 rows\n",
      "\n"
     ]
    }
   ],
   "source": [
    "#查看page列取值情况\n",
    "df.select('page').dropDuplicates().show()"
   ]
  },
  {
   "cell_type": "markdown",
   "metadata": {},
   "source": [
    "### 1.3清理"
   ]
  },
  {
   "cell_type": "markdown",
   "metadata": {},
   "source": [
    "* 删除ID列NA，及空值"
   ]
  },
  {
   "cell_type": "code",
   "execution_count": 9,
   "metadata": {},
   "outputs": [],
   "source": [
    "#删除NA值及非NA空值\n",
    "df_clean=df.dropna(how=\"any\",subset=[\"userId\",\"sessionId\"])\n",
    "df_clean=df_clean.filter(df[\"userId\"]!=\"\")"
   ]
  },
  {
   "cell_type": "code",
   "execution_count": 10,
   "metadata": {},
   "outputs": [
    {
     "name": "stdout",
     "output_type": "stream",
     "text": [
      "+------+\n",
      "|userId|\n",
      "+------+\n",
      "|    10|\n",
      "|   100|\n",
      "|100001|\n",
      "|100002|\n",
      "|100003|\n",
      "+------+\n",
      "only showing top 5 rows\n",
      "\n"
     ]
    }
   ],
   "source": [
    "#检查结果\n",
    "df_clean.select('userId').dropDuplicates().sort('userId').show(5)"
   ]
  },
  {
   "cell_type": "markdown",
   "metadata": {},
   "source": [
    "# 2探索性数据分析\n",
    "当你使用完整数据集时，通过加载小数据集，在 Spark 中完成基础操作来实现探索性数据分析。在这个 Workspace 中，我们已经提供给你一个你可以探索的小数据集。\n",
    "\n",
    "### 2.1定义客户流失\n",
    "\n",
    "在你完成初步分析之后，创建一列 `Churn` 作为模型的标签。我建议你使用 `Cancellation Confirmation` 事件来定义客户流失，该事件在付费或免费客户身上都有发生。作为一个奖励任务，你也可以深入了解 `Downgrade` 事件。\n",
    "\n"
   ]
  },
  {
   "cell_type": "code",
   "execution_count": 11,
   "metadata": {},
   "outputs": [],
   "source": [
    "#创建一列作为Cancellation Confirmation事件标签\n",
    "flag_churn=udf(lambda x:1 if x=='Cancellation Confirmation' else 0,IntegerType())\n",
    "df_clean=df_clean.withColumn('churn_event',flag_churn(\"page\"))"
   ]
  },
  {
   "cell_type": "code",
   "execution_count": 12,
   "metadata": {},
   "outputs": [],
   "source": [
    "#创建一列作为Cancellation Confirmation/流失用户标签\n",
    "windowval=Window.partitionBy('userId')\n",
    "df_clean=df_clean.withColumn('churn_user',max('churn_event').over(windowval))"
   ]
  },
  {
   "cell_type": "markdown",
   "metadata": {},
   "source": [
    "### 2.2探索数据\n",
    "你定义好客户流失后，就可以执行一些探索性数据分析，观察留存用户和流失用户的行为。你可以首先把这两类用户的数据聚合到一起，观察固定时间内某个特定动作出现的次数或者播放音乐的数量。"
   ]
  },
  {
   "cell_type": "markdown",
   "metadata": {},
   "source": [
    "#### 2.2.1是否注销与添加播放列表关系"
   ]
  },
  {
   "cell_type": "code",
   "execution_count": 13,
   "metadata": {
    "scrolled": true
   },
   "outputs": [
    {
     "data": {
      "image/png": "[encoded data removed]",
      "text/plain": [
       "<matplotlib.figure.Figure at 0x7f56fed79400>"
      ]
     },
     "metadata": {
      "needs_background": "light"
     },
     "output_type": "display_data"
    }
   ],
   "source": [
    "#提取Add to Playlist数据，查看用户添加至播放列表数量的分布\n",
    "lifetime_songs=df_clean.where('page==\"Add to Playlist\"').groupby(['userId','churn_user']).count().toPandas()\n",
    "\n",
    "#绘制小提琴图\n",
    "ax=sns.violinplot(data=lifetime_songs,x='churn_user',y='count')\n",
    "plt.xlabel('Churned or not ?')\n",
    "plt.ylabel('Add to Playlist')\n",
    "plt.title('Churned or not-Add to Playlist')\n",
    "sns.despine(ax=ax)"
   ]
  },
  {
   "cell_type": "markdown",
   "metadata": {},
   "source": [
    "* 相比于非注销用户，注销用户将歌曲添加至播放列表的数量较少，且数量的分布相对集中，其小提琴图形相对扁平"
   ]
  },
  {
   "cell_type": "markdown",
   "metadata": {},
   "source": [
    "#### 2.2.2是否注销与添加好友数量"
   ]
  },
  {
   "cell_type": "code",
   "execution_count": 14,
   "metadata": {},
   "outputs": [
    {
     "data": {
      "image/png": "[encoded data removed]",
      "text/plain": [
       "<matplotlib.figure.Figure at 0x7f56c972a400>"
      ]
     },
     "metadata": {
      "needs_background": "light"
     },
     "output_type": "display_data"
    }
   ],
   "source": [
    "#提取Add Friend数据，观察用户添加好友分布\n",
    "add_friend=df_clean.where('page==\"Add Friend\"').groupby(['userId','churn_user']).count().toPandas()\n",
    "\n",
    "ax=sns.violinplot(data=add_friend,x='churn_user',y='count')\n",
    "plt.xlabel('Churned or not ?')\n",
    "plt.ylabel('Add Friend')\n",
    "plt.title('Churned or not-Add Friend')\n",
    "sns.despine(ax=ax)"
   ]
  },
  {
   "cell_type": "markdown",
   "metadata": {},
   "source": [
    "* 相比于非注销用户，注销用户添加好友的数量大多处于较低水平；非注销用户添加好友数量从高水平到低水平均有分布，且非注销用户添加好友数量最大值远远大于注销用户的最大值"
   ]
  },
  {
   "cell_type": "markdown",
   "metadata": {},
   "source": [
    "#### 2.2.3是否注销与性别关系"
   ]
  },
  {
   "cell_type": "code",
   "execution_count": 15,
   "metadata": {},
   "outputs": [
    {
     "data": {
      "image/png": "[encoded data removed]",
      "text/plain": [
       "<matplotlib.figure.Figure at 0x7f56c95bbd68>"
      ]
     },
     "metadata": {
      "needs_background": "light"
     },
     "output_type": "display_data"
    }
   ],
   "source": [
    "#提取性别与用户ID列，观察注销与性别间关系\n",
    "gender_churn=df_clean.dropDuplicates([\"userId\",\"gender\"]).groupby([\"churn_user\",\"gender\"]).count().toPandas()\n",
    "\n",
    "#绘制直方图\n",
    "ax=sns.barplot(x='gender',y='count',hue='churn_user',data=gender_churn)\n",
    "plt.xlabel('Gender')\n",
    "plt.ylabel('Count')\n",
    "plt.legend(title='Churned or not',loc='best')\n",
    "plt.title('Churned or not-Gender')\n",
    "sns.despine(ax=ax)"
   ]
  },
  {
   "cell_type": "markdown",
   "metadata": {},
   "source": [
    "* 男性用户注销账户的绝对人数以及比例均比女性大"
   ]
  },
  {
   "cell_type": "markdown",
   "metadata": {},
   "source": [
    "# 3特征工程\n",
    "熟悉了数据之后，就可以构建你认为会对训练模型帮助最大的特征。要处理完整数据集，你可以按照下述步骤：\n",
    "- 写一个脚本来从小数据集中提取你需要的特征\n",
    "- 确保你的脚本可以拓展到大数据集上，使用之前教过的最佳实践原则\n",
    "- 在完整数据集上运行你的脚本，按运行情况调试代码\n",
    "\n",
    "如果是在教室的 workspace，你可以直接用里面提供的小数据集来提取特征。确保当你开始使用 Spark 集群的时候，把上述的成果迁移到大数据集上。"
   ]
  },
  {
   "cell_type": "markdown",
   "metadata": {},
   "source": [
    "### 5.1构建变量"
   ]
  },
  {
   "cell_type": "markdown",
   "metadata": {},
   "source": [
    "结合经验及以上的分析，构建以下变量：\n",
    "* 用户听歌数量：听歌数量越大，说明用户愿意使用该服务，注销几率越小。\n",
    "* 差评量：差评越多，说明用户不喜欢该服务，注销几率越大。\n",
    "* 添加播放列表量：用户将歌曲加进播放列表，一般可说明用户喜欢该音乐；添加的量越多，用户愿意使用该服务的可能性越大，注销可能性越小。\n",
    "* 添加好友量：添加好友量越多，说明用于越愿意在改服务中交友分享，注销几率越小。\n",
    "* 用户单次（同一sessionId）听歌最大数量：单次听歌数量越大，说明用户愿意使用该服务，注销几率越小\n",
    "* 播放的歌手数量：播放过的歌手数量越多，侧面说明用户听歌越多，越愿意使用该服务，注销几率越小。\n",
    "* 用户等级：用户曾经有付费，说明用户对该服务还是感兴趣的，注销几率相对小"
   ]
  },
  {
   "cell_type": "code",
   "execution_count": 16,
   "metadata": {},
   "outputs": [
    {
     "name": "stdout",
     "output_type": "stream",
     "text": [
      "+------+----------+\n",
      "|userId|song_total|\n",
      "+------+----------+\n",
      "|100010|       275|\n",
      "|200002|       387|\n",
      "|   125|         8|\n",
      "|    51|      2111|\n",
      "|   124|      4079|\n",
      "+------+----------+\n",
      "only showing top 5 rows\n",
      "\n"
     ]
    }
   ],
   "source": [
    "#用户听歌数量\n",
    "#获取每个用户点击页面NextSong的数量信息计数，获得用户添加进播放列表数量\n",
    "feature_1=df_clean.select('userId','page').where(df_clean.page==\"NextSong\").groupBy('userId').count().withColumnRenamed('count','song_total')\n",
    "feature_1.show(5)"
   ]
  },
  {
   "cell_type": "code",
   "execution_count": 17,
   "metadata": {},
   "outputs": [
    {
     "name": "stdout",
     "output_type": "stream",
     "text": [
      "+------+---------------+\n",
      "|userId|add_to_playlist|\n",
      "+------+---------------+\n",
      "|100010|              7|\n",
      "|200002|              8|\n",
      "|    51|             52|\n",
      "|   124|            118|\n",
      "|     7|              5|\n",
      "+------+---------------+\n",
      "only showing top 5 rows\n",
      "\n"
     ]
    }
   ],
   "source": [
    "#添加进播放列表量\n",
    "#获取每个用户点击页面Add to Playlist的数量信息计数，可获得用户添加进播放列表数量\n",
    "feature_2=df_clean.select('userId','page').where(df_clean.page=='Add to Playlist').groupBy('userId').count().withColumnRenamed('count','add_to_playlist')\n",
    "feature_2.show(5)"
   ]
  },
  {
   "cell_type": "code",
   "execution_count": 18,
   "metadata": {},
   "outputs": [
    {
     "name": "stdout",
     "output_type": "stream",
     "text": [
      "+------+----------+\n",
      "|userId|add_friend|\n",
      "+------+----------+\n",
      "|100010|         4|\n",
      "|200002|         4|\n",
      "|    51|        28|\n",
      "|   124|        74|\n",
      "|     7|         1|\n",
      "+------+----------+\n",
      "only showing top 5 rows\n",
      "\n"
     ]
    }
   ],
   "source": [
    "#添加好友量\n",
    "#获取每个用户点击页面Add Friend的数量信息计数，可获得用户添加好友书量\n",
    "feature_3=df_clean.select('userId','page').where(df_clean.page=='Add Friend').groupBy('userId').count().withColumnRenamed('count','add_friend')\n",
    "feature_3.show(5)"
   ]
  },
  {
   "cell_type": "code",
   "execution_count": 19,
   "metadata": {},
   "outputs": [
    {
     "name": "stdout",
     "output_type": "stream",
     "text": [
      "+------+-----------+\n",
      "|userId|Thumbs Down|\n",
      "+------+-----------+\n",
      "|100010|          5|\n",
      "|200002|          6|\n",
      "|    51|         21|\n",
      "|   124|         41|\n",
      "|     7|          1|\n",
      "+------+-----------+\n",
      "only showing top 5 rows\n",
      "\n"
     ]
    }
   ],
   "source": [
    "#差评量\n",
    "#获取每个用户点击页面Thumbs Down的数量信息计数，可获得用户差评量\n",
    "feature_4=df_clean.select('userID','page').where(df_clean.page=='Thumbs Down').groupBy('userId').count().withColumnRenamed('count','Thumbs Down')\n",
    "feature_4.show(5)"
   ]
  },
  {
   "cell_type": "code",
   "execution_count": 20,
   "metadata": {},
   "outputs": [
    {
     "name": "stdout",
     "output_type": "stream",
     "text": [
      "+------+----------------+\n",
      "|userId|max_songs_played|\n",
      "+------+----------------+\n",
      "|100010|              80|\n",
      "|200002|             120|\n",
      "|   125|               8|\n",
      "|    51|             497|\n",
      "|   124|             434|\n",
      "+------+----------------+\n",
      "only showing top 5 rows\n",
      "\n"
     ]
    }
   ],
   "source": [
    "#用户单次（同一sessionId）听歌最大数量\n",
    "#获取每个sessionId点击页面NextSong数量信息并计数，并按用户求最大，可获得用户单次（同一sessionId）听歌最大数量\n",
    "feature_5=df_clean.where('page==\"NextSong\"').groupBy('userId','sessionId').count().groupBy(['userId']).agg({'count':'max'}).withColumnRenamed('max(count)','max_songs_played')\n",
    "feature_5.show(5)"
   ]
  },
  {
   "cell_type": "code",
   "execution_count": 21,
   "metadata": {},
   "outputs": [
    {
     "name": "stdout",
     "output_type": "stream",
     "text": [
      "+------+------------+\n",
      "|userId|artist_total|\n",
      "+------+------------+\n",
      "|100010|         252|\n",
      "|200002|         339|\n",
      "|   125|           8|\n",
      "|    51|        1385|\n",
      "|   124|        2232|\n",
      "+------+------------+\n",
      "only showing top 5 rows\n",
      "\n"
     ]
    }
   ],
   "source": [
    "#播放的歌手数量\n",
    "#获取每个用户点击页面NextSong时的artist信息并计数，可获得用户听过的歌手数量\n",
    "feature_6=df_clean.filter(df_clean.page==\"NextSong\").select(\"userId\",\"artist\").dropDuplicates().groupby(\"userId\").count().withColumnRenamed(\"count\",\"artist_total\")\n",
    "feature_6.show(5)"
   ]
  },
  {
   "cell_type": "code",
   "execution_count": 22,
   "metadata": {},
   "outputs": [
    {
     "name": "stdout",
     "output_type": "stream",
     "text": [
      "+------+---------+\n",
      "|userId|level_max|\n",
      "+------+---------+\n",
      "|100010|        0|\n",
      "|200002|        1|\n",
      "|   125|        0|\n",
      "|   124|        1|\n",
      "|    51|        1|\n",
      "|     7|        0|\n",
      "|    15|        1|\n",
      "|    54|        1|\n",
      "|   155|        1|\n",
      "|100014|        1|\n",
      "+------+---------+\n",
      "only showing top 10 rows\n",
      "\n"
     ]
    }
   ],
   "source": [
    "#是否曾经付费\n",
    "#将level中free/paid转换为0/1；只有用户曾经付费，标记为1\n",
    "windowval_feature=Window.partitionBy('userId')\n",
    "feature_7=df_clean.select('userId','level').replace(['free', 'paid'],['0','1'],'level').select('userId', col('level').cast('int'))\n",
    "feature_7=feature_7.withColumn('level_max',max('level').over(windowval_feature)).drop('level').dropDuplicates()\n",
    "feature_7.show(10)"
   ]
  },
  {
   "cell_type": "code",
   "execution_count": 23,
   "metadata": {},
   "outputs": [
    {
     "name": "stdout",
     "output_type": "stream",
     "text": [
      "+------+-----+\n",
      "|userId|label|\n",
      "+------+-----+\n",
      "|100010|    0|\n",
      "|200002|    0|\n",
      "|   125|    1|\n",
      "|   124|    0|\n",
      "|    51|    1|\n",
      "+------+-----+\n",
      "only showing top 5 rows\n",
      "\n"
     ]
    }
   ],
   "source": [
    "#标签\n",
    "label=df_clean.select('userId',col('churn_user').alias('label')).dropDuplicates()\n",
    "label.show(5)"
   ]
  },
  {
   "cell_type": "markdown",
   "metadata": {},
   "source": [
    "### 5.2变量聚合"
   ]
  },
  {
   "cell_type": "code",
   "execution_count": 24,
   "metadata": {},
   "outputs": [
    {
     "name": "stdout",
     "output_type": "stream",
     "text": [
      "+----------+---------------+----------+-----------+----------------+------------+---------+-----+\n",
      "|song_total|add_to_playlist|add_friend|Thumbs Down|max_songs_played|artist_total|level_max|label|\n",
      "+----------+---------------+----------+-----------+----------------+------------+---------+-----+\n",
      "|       275|              7|         4|          5|              80|         252|        0|    0|\n",
      "|       387|              8|         4|          6|             120|         339|        1|    0|\n",
      "|         8|              0|         0|          0|               8|           8|        0|    1|\n",
      "|      4079|            118|        74|         41|             434|        2232|        1|    0|\n",
      "|      2111|             52|        28|         21|             497|        1385|        1|    1|\n",
      "+----------+---------------+----------+-----------+----------------+------------+---------+-----+\n",
      "only showing top 5 rows\n",
      "\n"
     ]
    }
   ],
   "source": [
    "#汇总特征数据与标签\n",
    "df_feature=feature_1.join(feature_2,'userId','outer')\\\n",
    "    .join(feature_3,'userId','outer')\\\n",
    "    .join(feature_4,'userId','outer')\\\n",
    "    .join(feature_5,'userId','outer')\\\n",
    "    .join(feature_6,'userId','outer')\\\n",
    "    .join(feature_7,'userId','outer')\\\n",
    "    .join(label,'userId','outer')\n",
    "\n",
    "df_feature=df_feature.fillna(0)#无值的，用0填充\n",
    "df_feature=df_feature.drop('userId')#删除索引\n",
    "df_feature.show(5)"
   ]
  },
  {
   "cell_type": "markdown",
   "metadata": {},
   "source": [
    "# 4建模\n",
    "将完整数据集分成训练集、测试集和验证集。测试几种你学过的机器学习方法。评价不同机器学习方法的准确率，根据情况调节参数。根据准确率你挑选出表现最好的那个模型，然后报告在训练集上的结果。因为流失顾客数据集很小，我建议选用 F1 score 作为优化指标。"
   ]
  },
  {
   "cell_type": "markdown",
   "metadata": {},
   "source": [
    "### 4.1准备数据"
   ]
  },
  {
   "cell_type": "code",
   "execution_count": 25,
   "metadata": {},
   "outputs": [
    {
     "name": "stdout",
     "output_type": "stream",
     "text": [
      "+----------+---------------+----------+-----------+----------------+------------+---------+-----+--------------------+\n",
      "|song_total|add_to_playlist|add_friend|Thumbs Down|max_songs_played|artist_total|level_max|label|        features_vec|\n",
      "+----------+---------------+----------+-----------+----------------+------------+---------+-----+--------------------+\n",
      "|       275|              7|         4|          5|              80|         252|        0|    0|[275.0,7.0,4.0,5....|\n",
      "|       387|              8|         4|          6|             120|         339|        1|    0|[387.0,8.0,4.0,6....|\n",
      "|         8|              0|         0|          0|               8|           8|        0|    1|(7,[0,4,5],[8.0,8...|\n",
      "|      4079|            118|        74|         41|             434|        2232|        1|    0|[4079.0,118.0,74....|\n",
      "|      2111|             52|        28|         21|             497|        1385|        1|    1|[2111.0,52.0,28.0...|\n",
      "|       150|              5|         1|          1|              72|         142|        0|    0|[150.0,5.0,1.0,1....|\n",
      "|      1914|             59|        31|         14|             346|        1302|        1|    0|[1914.0,59.0,31.0...|\n",
      "|      2841|             72|        33|         29|             498|        1744|        1|    1|[2841.0,72.0,33.0...|\n",
      "|       820|             24|        11|          3|             269|         643|        1|    0|[820.0,24.0,11.0,...|\n",
      "|       257|              7|         6|          3|              70|         233|        1|    1|[257.0,7.0,6.0,3....|\n",
      "|      1928|             38|        41|         17|             444|        1299|        1|    0|[1928.0,38.0,41.0...|\n",
      "|        84|              1|         3|          0|              44|          78|        0|    0|[84.0,1.0,3.0,0.0...|\n",
      "|      1797|             61|        29|         16|             708|        1241|        1|    1|[1797.0,61.0,29.0...|\n",
      "|       647|             20|         6|          9|             161|         534|        1|    0|[647.0,20.0,6.0,9...|\n",
      "|      2070|             67|        41|         24|             580|        1332|        1|    0|[2070.0,67.0,41.0...|\n",
      "|      3632|            113|        63|         28|             243|        2070|        1|    0|[3632.0,113.0,63....|\n",
      "|       230|              7|         7|          5|             135|         207|        0|    1|[230.0,7.0,7.0,5....|\n",
      "|      3028|             89|        47|         22|             532|        1804|        1|    1|[3028.0,89.0,47.0...|\n",
      "|      1125|             33|        12|          9|             299|         865|        1|    0|[1125.0,33.0,12.0...|\n",
      "|       215|              7|         7|          3|              81|         195|        0|    0|[215.0,7.0,7.0,3....|\n",
      "+----------+---------------+----------+-----------+----------------+------------+---------+-----+--------------------+\n",
      "only showing top 20 rows\n",
      "\n"
     ]
    }
   ],
   "source": [
    "#用VectorAssembler将数据集转换为可供模型计算的结构\n",
    "cols=[\"song_total\",\"add_to_playlist\",\"add_friend\",\"Thumbs Down\",\"max_songs_played\",\"artist_total\",\"level_max\"]\n",
    "assembler=VectorAssembler(inputCols=cols,outputCol=\"features_vec\")\n",
    "df_feature=assembler.transform(df_feature)#转成向量\n",
    "df_feature.show()"
   ]
  },
  {
   "cell_type": "code",
   "execution_count": 26,
   "metadata": {},
   "outputs": [
    {
     "name": "stdout",
     "output_type": "stream",
     "text": [
      "+----------+---------------+----------+-----------+----------------+------------+---------+-----+--------------------+--------------------+\n",
      "|song_total|add_to_playlist|add_friend|Thumbs Down|max_songs_played|artist_total|level_max|label|        features_vec|            features|\n",
      "+----------+---------------+----------+-----------+----------------+------------+---------+-----+--------------------+--------------------+\n",
      "|       275|              7|         4|          5|              80|         252|        0|    0|[275.0,7.0,4.0,5....|[0.24887761207221...|\n",
      "|       387|              8|         4|          6|             120|         339|        1|    0|[387.0,8.0,4.0,6....|[0.35023867589799...|\n",
      "|         8|              0|         0|          0|               8|           8|        0|    1|(7,[0,4,5],[8.0,8...|(7,[0,4,5],[0.007...|\n",
      "|      4079|            118|        74|         41|             434|        2232|        1|    0|[4079.0,118.0,74....|[3.69153374415482...|\n",
      "|      2111|             52|        28|         21|             497|        1385|        1|    1|[2111.0,52.0,28.0...|[1.91047505121618...|\n",
      "|       150|              5|         1|          1|              72|         142|        0|    0|[150.0,5.0,1.0,1....|[0.13575142476666...|\n",
      "|      1914|             59|        31|         14|             346|        1302|        1|    0|[1914.0,59.0,31.0...|[1.73218818002263...|\n",
      "|      2841|             72|        33|         29|             498|        1744|        1|    1|[2841.0,72.0,33.0...|[2.57113198508062...|\n",
      "|       820|             24|        11|          3|             269|         643|        1|    0|[820.0,24.0,11.0,...|[0.74210778872443...|\n",
      "|       257|              7|         6|          3|              70|         233|        1|    1|[257.0,7.0,6.0,3....|[0.23258744110021...|\n",
      "|      1928|             38|        41|         17|             444|        1299|        1|    0|[1928.0,38.0,41.0...|[1.74485831300085...|\n",
      "|        84|              1|         3|          0|              44|          78|        0|    0|[84.0,1.0,3.0,0.0...|[0.07602079786933...|\n",
      "|      1797|             61|        29|         16|             708|        1241|        1|    1|[1797.0,61.0,29.0...|[1.62630206870463...|\n",
      "|       647|             20|         6|          9|             161|         534|        1|    0|[647.0,20.0,6.0,9...|[0.58554114549354...|\n",
      "|      2070|             67|        41|         24|             580|        1332|        1|    0|[2070.0,67.0,41.0...|[1.87336966177996...|\n",
      "|      3632|            113|        63|         28|             243|        2070|        1|    0|[3632.0,113.0,63....|[3.28699449835016...|\n",
      "|       230|              7|         7|          5|             135|         207|        0|    1|[230.0,7.0,7.0,5....|[0.20815218464221...|\n",
      "|      3028|             89|        47|         22|             532|        1804|        1|    1|[3028.0,89.0,47.0...|[2.74036876128972...|\n",
      "|      1125|             33|        12|          9|             299|         865|        1|    0|[1125.0,33.0,12.0...|[1.01813568574998...|\n",
      "|       215|              7|         7|          3|              81|         195|        0|    0|[215.0,7.0,7.0,3....|[0.19457704216555...|\n",
      "+----------+---------------+----------+-----------+----------------+------------+---------+-----+--------------------+--------------------+\n",
      "only showing top 20 rows\n",
      "\n"
     ]
    }
   ],
   "source": [
    "#用StandardScaler标准化数据\n",
    "scaler=StandardScaler(inputCol=\"features_vec\",outputCol=\"features\",withStd=True)\n",
    "scalerModel=scaler.fit(df_feature)\n",
    "df_feature=scalerModel.transform(df_feature)\n",
    "df_feature.show()"
   ]
  },
  {
   "cell_type": "code",
   "execution_count": 27,
   "metadata": {},
   "outputs": [],
   "source": [
    "#拆分为训练集、测试集和验证集\n",
    "train,validation,test=df_feature.randomSplit([0.6,0.2,0.2],seed=42)"
   ]
  },
  {
   "cell_type": "markdown",
   "metadata": {},
   "source": [
    "### 4.2模型选择"
   ]
  },
  {
   "cell_type": "markdown",
   "metadata": {},
   "source": [
    "#### 4.2.1模型选择思路"
   ]
  },
  {
   "cell_type": "markdown",
   "metadata": {},
   "source": [
    "* 选用逻辑回归、支持向量机、随机森林进行对比，这几个模型一般不需要很多参数调整就可以达到不错的效果。他们的优缺点如下：\n",
    "  * 1、逻辑回归：优点：计算速度快；缺点：容易产生欠拟合。\n",
    "  * 2、支持向量机：数据量较小情况下解决机器学习问题。缺点：对缺失数据敏感\n",
    "  * 3、随机森林：优点：有抗过拟合能力。通过平均决策树，降低过拟合的风险性。缺点：大量的树结构会占用大量的空间和利用大量时间"
   ]
  },
  {
   "cell_type": "markdown",
   "metadata": {},
   "source": [
    "#### 4.2.2LogisticRegression"
   ]
  },
  {
   "cell_type": "code",
   "execution_count": 28,
   "metadata": {},
   "outputs": [
    {
     "name": "stdout",
     "output_type": "stream",
     "text": [
      "The training process took116.791512966156 second\n"
     ]
    }
   ],
   "source": [
    "#创建并训练模型，通过time()记录训练时间\n",
    "lr=LogisticRegression(maxIter=10)#初始化\n",
    "start=time()#开始时间\n",
    "model_lr=lr.fit(train)#训练\n",
    "end=time()#结束时间\n",
    "print('The training process took{} second'.format(end-start))"
   ]
  },
  {
   "cell_type": "code",
   "execution_count": 29,
   "metadata": {},
   "outputs": [
    {
     "name": "stdout",
     "output_type": "stream",
     "text": [
      "Logistic Regreession Metrics:\n",
      "Accuracy:0.7755102040816326\n",
      "F-1 Score:0.7096869517037585\n"
     ]
    }
   ],
   "source": [
    "#验证模型效果\n",
    "results_lr=model_lr.transform(validation)#验证集上预测\n",
    "evaluator=MulticlassClassificationEvaluator(predictionCol=\"prediction\")#评分器\n",
    "print('Logistic Regreession Metrics:')\n",
    "print('F-1 Score:{}'.format(evaluator.evaluate(results_lr,{evaluator.metricName:\"f1\"})))#计算F-1 Score"
   ]
  },
  {
   "cell_type": "markdown",
   "metadata": {},
   "source": [
    "#### 4.2.3LinearSVC"
   ]
  },
  {
   "cell_type": "code",
   "execution_count": 30,
   "metadata": {},
   "outputs": [
    {
     "name": "stdout",
     "output_type": "stream",
     "text": [
      "The training process took207.28921794891357 second\n"
     ]
    }
   ],
   "source": [
    "#创建并训练模型\n",
    "svm=LinearSVC(maxIter=10)\n",
    "start=time()\n",
    "model_svm=svm.fit(train)\n",
    "end=time()\n",
    "print('The training process took{} second'.format(end-start))"
   ]
  },
  {
   "cell_type": "code",
   "execution_count": 31,
   "metadata": {},
   "outputs": [
    {
     "name": "stdout",
     "output_type": "stream",
     "text": [
      "LinearSVC Metrics:\n",
      "Accuracy:0.7755102040816326\n",
      "F-1 Score:0.6774571897724607\n"
     ]
    }
   ],
   "source": [
    "#验证模型效果\n",
    "results_svm=model_svm.transform(validation)\n",
    "evaluator=MulticlassClassificationEvaluator(predictionCol=\"prediction\")#\n",
    "print('LinearSVC:')\n",
    "print('F-1 Score:{}'.format(evaluator.evaluate(results_svm,{evaluator.metricName:\"f1\"})))"
   ]
  },
  {
   "cell_type": "markdown",
   "metadata": {},
   "source": [
    "#### 4.2.4Random Forest"
   ]
  },
  {
   "cell_type": "code",
   "execution_count": 32,
   "metadata": {},
   "outputs": [
    {
     "name": "stdout",
     "output_type": "stream",
     "text": [
      "The training process took209.9560685157776 second\n"
     ]
    }
   ],
   "source": [
    "#创建并训练模型，通过time()记录训练时间\n",
    "rf=RandomForestClassifier(seed=42)#初始化\n",
    "start=time()#开始时间\n",
    "model_rf=rf.fit(train)#训练\n",
    "end=time()#结束时间\n",
    "print('The training process took{} second'.format(end-start))"
   ]
  },
  {
   "cell_type": "code",
   "execution_count": 33,
   "metadata": {},
   "outputs": [
    {
     "name": "stdout",
     "output_type": "stream",
     "text": [
      "Random Forest Metrics:\n",
      "Accuracy:0.7755102040816326\n",
      "F-1 Score:0.7096869517037585\n"
     ]
    }
   ],
   "source": [
    "#验证模型效果\n",
    "results_rf=model_rf.transform(validation)#验证集上预测\n",
    "evaluator=MulticlassClassificationEvaluator(predictionCol=\"prediction\")#评分器\n",
    "print('Random Forest:')\n",
    "print('F-1 Score:{}'.format(evaluator.evaluate(results_rf,{evaluator.metricName:\"f1\"})))#计算F-1 Score"
   ]
  },
  {
   "cell_type": "code",
   "execution_count": 34,
   "metadata": {},
   "outputs": [
    {
     "name": "stdout",
     "output_type": "stream",
     "text": [
      "The training process took205.05550479888916 second\n"
     ]
    }
   ],
   "source": [
    "#创建并训练模型，通过time()记录训练时间\n",
    "rf_2=RandomForestClassifier(seed=42)#初始化\n",
    "start=time()#开始时间\n",
    "model_rf_2=rf_2.fit(train)#训练\n",
    "end=time()#结束时间\n",
    "print('The training process took{} second'.format(end-start))"
   ]
  },
  {
   "cell_type": "code",
   "execution_count": 35,
   "metadata": {},
   "outputs": [
    {
     "name": "stdout",
     "output_type": "stream",
     "text": [
      "Random Forest Metrics:\n",
      "Accuracy:0.7755102040816326\n",
      "F-1 Score:0.7096869517037585\n"
     ]
    }
   ],
   "source": [
    "#验证模型效果\n",
    "results_rf_2=model_rf_2.transform(validation)#验证集上预测\n",
    "evaluator=MulticlassClassificationEvaluator(predictionCol=\"prediction\")#评分器\n",
    "print('Random Forest:')\n",
    "print('F-1 Score:{}'.format(evaluator.evaluate(results_rf_2,{evaluator.metricName:\"f1\"})))#计算F-1 Score"
   ]
  },
  {
   "cell_type": "markdown",
   "metadata": {},
   "source": [
    "#### 4.2.6模型总结"
   ]
  },
  {
   "cell_type": "markdown",
   "metadata": {},
   "source": [
    "* LogisticRegression模型：F-1 Score为0.7096；耗时121s\n",
    "* LinearSVC模型：F-1 Score为0.6775；耗时214s\n",
    "* Random Forest模型：F-1 Score0.7096；耗时215s\n",
    "\n",
    "LogisticRegression、Random Forest的F-1 Score一致，且较LinearSVC的高。为了避免过拟合，选取Random Forest作为最终模型，选用并通过调节模型参数尝试获取更优模型"
   ]
  },
  {
   "cell_type": "markdown",
   "metadata": {},
   "source": [
    "### 4.3模型调优"
   ]
  },
  {
   "cell_type": "markdown",
   "metadata": {},
   "source": [
    "* 如上所述，选用Random Forest进行调优\n",
    "* 因为流失顾客数据集很小，Accuracy很难反映模型好坏，根据建议选用 F1 score 作为优化指标。\n",
    "* 使用3折交叉验证及参数网络对模型尝试调优"
   ]
  },
  {
   "cell_type": "code",
   "execution_count": 36,
   "metadata": {},
   "outputs": [],
   "source": [
    "#创建模型\n",
    "rf=RandomForestClassifier(seed=42)\n",
    "f1_evaluator=MulticlassClassificationEvaluator(metricName='f1')\n",
    "\n",
    "paramGrid=ParamGridBuilder().addGrid(rf.maxDepth,[10,20]).addGrid(rf.numTrees,[50,100]).build()#原来3,5,20,50更优；看了减少点。没有过拟合，泛化嫩里还很好\n",
    "\n",
    "crossval_rf=CrossValidator(estimator=rf,\n",
    "        estimatorParamMaps=paramGrid,\n",
    "        evaluator=f1_evaluator,\n",
    "        numFolds=3)"
   ]
  },
  {
   "cell_type": "code",
   "execution_count": 37,
   "metadata": {},
   "outputs": [
    {
     "data": {
      "text/plain": [
       "[0.743849355866234, 0.7515627752177565, 0.743849355866234, 0.7515627752177565]"
      ]
     },
     "execution_count": 37,
     "metadata": {},
     "output_type": "execute_result"
    }
   ],
   "source": [
    "#训练并获取最佳参数\n",
    "cvModel_rf=crossval_rf.fit(train)\n",
    "cvModel_rf.avgMetrics"
   ]
  },
  {
   "cell_type": "code",
   "execution_count": 38,
   "metadata": {},
   "outputs": [
    {
     "name": "stdout",
     "output_type": "stream",
     "text": [
      "Crossval Random Forest Metrics:\n",
      "Accuracy:0.7959183673469388\n",
      "F-1 Score:0.7227495649422561\n"
     ]
    }
   ],
   "source": [
    "#验证调优后效果\n",
    "results_rf_cv=cvModel_rf.transform(validation)\n",
    "evaluator=MulticlassClassificationEvaluator(predictionCol=\"prediction\")\n",
    "print('Crossval Random Forest:')\n",
    "print('F-1 Score:{}'.format(evaluator.evaluate(results_rf_cv,{evaluator.metricName:\"f1\"})))"
   ]
  },
  {
   "cell_type": "markdown",
   "metadata": {},
   "source": [
    "* 对比调优前后的模型在验证集上预测结果，调优前F-1 Score0.7096；调优后F-1 Score:0.7227，F-1 Score有提升\n",
    "* 使用调优后模型进行最终预测"
   ]
  },
  {
   "cell_type": "markdown",
   "metadata": {},
   "source": [
    "### 4.4使用最佳模型预测"
   ]
  },
  {
   "cell_type": "code",
   "execution_count": 40,
   "metadata": {},
   "outputs": [
    {
     "name": "stdout",
     "output_type": "stream",
     "text": [
      "Test:\n",
      "Accuracy:0.7058823529411765\n",
      "F-1 Score:0.6591970121381886\n"
     ]
    }
   ],
   "source": [
    "#使用最佳模型预测\n",
    "results_final=cvModel_rf.transform(test)\n",
    "evaluator=MulticlassClassificationEvaluator(predictionCol=\"prediction\")\n",
    "print('Test:')\n",
    "print('F-1 Score:{}'.format(evaluator.evaluate(results_final,{evaluator.metricName:\"f1\"})))"
   ]
  },
  {
   "cell_type": "markdown",
   "metadata": {},
   "source": [
    "* 在测试集上运算后：F-1 Score:0.6591，和在验证集的结果上相比，F-1 Score有下降\n",
    "* 模型存在在过拟合"
   ]
  },
  {
   "cell_type": "markdown",
   "metadata": {},
   "source": [
    "# 5总结"
   ]
  },
  {
   "cell_type": "markdown",
   "metadata": {},
   "source": [
    "### 5.1总结&反思"
   ]
  },
  {
   "cell_type": "markdown",
   "metadata": {},
   "source": [
    "* 过程总结\n",
    "    * 这个项目中，我们建立了一个预测流失用户的模型。\n",
    "    * 在数据集中，我们删除了没有用户ID和sessionID的数据；对流失用户建立了标识，并结合对特征与是否流失间关系的探索，并建立了7个特征\n",
    "    * 然后我们选择3个模型：逻辑回归，SVM和随机森林进行比较。根据比较结果。选择了随机森林预测最后结果。\n",
    "    * 接着我们使用交叉验证和参数网络搜索调优随机森林的参数，对测试集进行预测。预测结果F-1 Score:0.6591"
   ]
  },
  {
   "cell_type": "markdown",
   "metadata": {},
   "source": [
    "* 过程反思\n",
    "    * 构建合适的特征对于建立好的模型十分重要。而数据集中，现成的可用于预测的特征并不多；我们需要重新构造特征来预测流失用户。而从数据集中构造变量一方面需要经验与知识的积累，一方面需要熟悉手上的数据\n",
    "    * 对比各未经优化的模型间F-1 Score，各模型相差不大。后续想有较大幅度提升，除了选取更优模型，更多可能需要从创建更合适的特征变量入手"
   ]
  },
  {
   "cell_type": "markdown",
   "metadata": {},
   "source": [
    "### 5.3改进"
   ]
  },
  {
   "cell_type": "markdown",
   "metadata": {},
   "source": [
    "1、该数据集放在现实中，数据量并不大。如果进一步增加数据量，可以得到预测效果更好的模型\n",
    "\n",
    "2、用于预测流失用户的特征进一步增加完善，找到与数据集相关性更强的特征，以提升模型性能。如增加用户注销账户时的的等级作为特征；或者对未理解未探索的特征进一步研究\n",
    "\n",
    "3、模型方面：选用决策树、梯度提升树等其他算法，观察accuracy与f1分数变化，对比已使用的算法，选取更优模型"
   ]
  },
  {
   "cell_type": "markdown",
   "metadata": {},
   "source": [
    "# 6最后一步\n",
    "清理你的代码，添加注释和重命名变量，使得代码更易读和易于维护。参考 Spark 项目概述页面和数据科学家毕业项目审阅要求，确保你的项目包含了毕业项目要求的所有内容，并且满足所有审阅要求。记得在 GitHub 代码库里包含一份全面的文档——README文件，以及一个网络应用程序或博客文章。"
   ]
  },
  {
   "cell_type": "code",
   "execution_count": null,
   "metadata": {},
   "outputs": [],
   "source": []
  }
 ],
 "metadata": {
  "kernelspec": {
   "display_name": "Python 3",
   "language": "python",
   "name": "python3"
  },
  "language_info": {
   "codemirror_mode": {
    "name": "ipython",
    "version": 3
   },
   "file_extension": ".py",
   "mimetype": "text/x-python",
   "name": "python",
   "nbconvert_exporter": "python",
   "pygments_lexer": "ipython3",
   "version": "3.6.3"
  }
 },
 "nbformat": 4,
 "nbformat_minor": 2
}
